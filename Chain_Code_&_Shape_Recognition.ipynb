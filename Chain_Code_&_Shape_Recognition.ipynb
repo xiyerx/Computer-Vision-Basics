{
  "cells": [
    {
      "cell_type": "markdown",
      "metadata": {
        "id": "Y6xIx_RgAISu"
      },
      "source": [
        "# **CV Lab 4: Chain Code**\n",
        "\n",
        "Name: Shwetha Iyer\n",
        "\n",
        "Batch: A4\n",
        "\n",
        "PRN: 1032211195\n"
      ]
    },
    {
      "cell_type": "code",
      "execution_count": 68,
      "metadata": {
        "id": "lcGI2VmJsS99"
      },
      "outputs": [],
      "source": [
        "import numpy as np\n",
        "import matplotlib.pyplot as plt\n",
        "import cv2\n",
        "from __future__ import division\n",
        "import math\n",
        "from google.colab.patches import cv2_imshow"
      ]
    },
    {
      "cell_type": "code",
      "execution_count": 69,
      "metadata": {
        "colab": {
          "base_uri": "https://localhost:8080/",
          "height": 450
        },
        "id": "dmCKf5ywsjq1",
        "outputId": "c9b71806-4108-4838-8f5a-afcad15e75a9"
      },
      "outputs": [
        {
          "data": {
            "text/plain": [
              "<matplotlib.image.AxesImage at 0x797766ad2830>"
            ]
          },
          "execution_count": 69,
          "metadata": {},
          "output_type": "execute_result"
        },
        {
          "data": {
            "image/png": "[encoded data removed]",
            "text/plain": [
              "<Figure size 640x480 with 1 Axes>"
            ]
          },
          "metadata": {},
          "output_type": "display_data"
        }
      ],
      "source": [
        "img = cv2.imread('/content/5.jpg',0)\n",
        "img = cv2.resize(img,(50,50))\n",
        "_, img = cv2.threshold(img, 127, 255, cv2.THRESH_BINARY_INV)\n",
        "plt.imshow(img, cmap = 'gray')"
      ]
    },
    {
      "cell_type": "markdown",
      "metadata": {
        "id": "76y_ziNMcp4I"
      },
      "source": [
        "# ***Chain-Code***"
      ]
    },
    {
      "cell_type": "code",
      "execution_count": 70,
      "metadata": {
        "colab": {
          "base_uri": "https://localhost:8080/"
        },
        "id": "l1f1WuoErNci",
        "outputId": "57ff24d6-578f-4987-f38c-14621200bec2"
      },
      "outputs": [
        {
          "name": "stdout",
          "output_type": "stream",
          "text": [
            "(9, 16) 255\n"
          ]
        }
      ],
      "source": [
        "## Discover the starting point\n",
        "for i, row in enumerate(img):\n",
        "    for j, value in enumerate(row):\n",
        "        if value == 255:\n",
        "            start_point = (i, j)\n",
        "            print(start_point, value)\n",
        "            break\n",
        "    else:\n",
        "        continue\n",
        "    break"
      ]
    },
    {
      "cell_type": "code",
      "execution_count": 71,
      "metadata": {
        "id": "wZ-2cRavsTTV"
      },
      "outputs": [],
      "source": [
        "directions = [ 0,  1,  2,\n",
        "               7,      3,\n",
        "               6,  5,  4]\n",
        "dir2idx = dict(zip(directions, range(len(directions))))\n",
        "\n",
        "change_j =   [-1,  0,  1, # x or columns\n",
        "              -1,      1,\n",
        "              -1,  0,  1]\n",
        "\n",
        "change_i =   [-1, -1, -1, # y or rows\n",
        "               0,      0,\n",
        "               1,  1,  1]"
      ]
    },
    {
      "cell_type": "code",
      "execution_count": 72,
      "metadata": {
        "id": "8TJmhVXguszG"
      },
      "outputs": [],
      "source": [
        "border = []\n",
        "chain = []\n",
        "curr_point = start_point\n",
        "for direction in directions:\n",
        "    idx = dir2idx[direction]\n",
        "    new_point = (start_point[0]+change_i[idx], start_point[1]+change_j[idx])\n",
        "    if img[new_point] != 0: # if is ROI\n",
        "        border.append(new_point)\n",
        "        chain.append(direction)\n",
        "        curr_point = new_point\n",
        "        break"
      ]
    },
    {
      "cell_type": "code",
      "execution_count": 73,
      "metadata": {
        "id": "TdoXo6Mcuui8"
      },
      "outputs": [],
      "source": [
        "count = 0\n",
        "while curr_point != start_point:\n",
        "    #figure direction to start search\n",
        "    b_direction = (direction + 5) % 8\n",
        "    dirs_1 = range(b_direction, 8)\n",
        "    dirs_2 = range(0, b_direction)\n",
        "    dirs = []\n",
        "    dirs.extend(dirs_1)\n",
        "    dirs.extend(dirs_2)\n",
        "    for direction in dirs:\n",
        "        idx = dir2idx[direction]\n",
        "        new_point = (curr_point[0]+change_i[idx], curr_point[1]+change_j[idx])\n",
        "        if img[new_point] != 0: # if is ROI\n",
        "            border.append(new_point)\n",
        "            chain.append(direction)\n",
        "            curr_point = new_point\n",
        "            break\n",
        "    if count == 1000: break\n",
        "    count += 1\n",
        "\n",
        "def first_difference(chain):\n",
        "    fd_list = []\n",
        "    for i in range(len(chain) - 1):\n",
        "        fd_list.append(abs(chain[i + 1] - chain[i]) % 8)\n",
        "    return fd_list"
      ]
    },
    {
      "cell_type": "code",
      "execution_count": 74,
      "metadata": {
        "colab": {
          "base_uri": "https://localhost:8080/"
        },
        "id": "qPweth8UvUgN",
        "outputId": "b30ba429-c93a-4487-a80e-958a0fe08ad6"
      },
      "outputs": [
        {
          "name": "stdout",
          "output_type": "stream",
          "text": [
            "Length: 171\n",
            "Chain Code: [3, 3, 3, 3, 3, 3, 3, 5, 4, 2, 1, 3, 3, 3, 3, 3, 3, 3, 3, 3, 3, 3, 3, 3, 3, 3, 3, 5, 4, 3, 5, 5, 7, 7, 7, 6, 5, 7, 7, 7, 7, 7, 7, 7, 7, 7, 7, 7, 7, 7, 7, 7, 7, 7, 6, 5, 5, 7, 6, 5, 4, 3, 3, 3, 4, 5, 4, 3, 3, 3, 5, 4, 3, 4, 3, 3, 3, 5, 5, 5, 5, 5, 5, 5, 5, 5, 7, 6, 5, 7, 6, 5, 7, 6, 7, 7, 7, 7, 7, 7, 7, 7, 7, 7, 7, 7, 0, 7, 1, 0, 1, 0, 7, 1, 1, 1, 1, 3, 3, 5, 4, 3, 5, 4, 3, 3, 3, 3, 3, 3, 3, 3, 3, 3, 2, 1, 1, 1, 1, 1, 1, 0, 7, 7, 1, 0, 7, 7, 7, 0, 7, 7, 7, 1, 0, 7, 7, 1, 1, 1, 1, 1, 1, 2, 1, 1, 1, 3, 2, 1, 1, 1]\n",
            "First Difference: [0, 0, 0, 0, 0, 0, 2, 1, 2, 1, 2, 0, 0, 0, 0, 0, 0, 0, 0, 0, 0, 0, 0, 0, 0, 0, 2, 1, 1, 2, 0, 2, 0, 0, 1, 1, 2, 0, 0, 0, 0, 0, 0, 0, 0, 0, 0, 0, 0, 0, 0, 0, 0, 1, 1, 0, 2, 1, 1, 1, 1, 0, 0, 1, 1, 1, 1, 0, 0, 2, 1, 1, 1, 1, 0, 0, 2, 0, 0, 0, 0, 0, 0, 0, 0, 2, 1, 1, 2, 1, 1, 2, 1, 1, 0, 0, 0, 0, 0, 0, 0, 0, 0, 0, 0, 7, 7, 6, 1, 1, 1, 7, 6, 0, 0, 0, 2, 0, 2, 1, 1, 2, 1, 1, 0, 0, 0, 0, 0, 0, 0, 0, 0, 1, 1, 0, 0, 0, 0, 0, 1, 7, 0, 6, 1, 7, 0, 0, 7, 7, 0, 0, 6, 1, 7, 0, 6, 0, 0, 0, 0, 0, 1, 1, 0, 0, 2, 1, 1, 0, 0]\n"
          ]
        }
      ],
      "source": [
        "print(\"Length:\", count)\n",
        "print(\"Chain Code:\",chain)\n",
        "print(\"First Difference:\",first_difference(chain))"
      ]
    },
    {
      "cell_type": "code",
      "execution_count": 75,
      "metadata": {
        "colab": {
          "base_uri": "https://localhost:8080/",
          "height": 450
        },
        "id": "YeR8S_yqoTED",
        "outputId": "c2e1ae92-248f-498b-f585-02efb5bb6a84"
      },
      "outputs": [
        {
          "data": {
            "text/plain": [
              "[<matplotlib.lines.Line2D at 0x797766d0a0b0>]"
            ]
          },
          "execution_count": 75,
          "metadata": {},
          "output_type": "execute_result"
        },
        {
          "data": {
            "image/png": "[encoded data removed]",
            "text/plain": [
              "<Figure size 640x480 with 1 Axes>"
            ]
          },
          "metadata": {},
          "output_type": "display_data"
        }
      ],
      "source": [
        "plt.imshow(img, cmap='gray')\n",
        "plt.plot([i[1] for i in border], [i[0] for i in border])"
      ]
    },
    {
      "cell_type": "code",
      "execution_count": 76,
      "metadata": {
        "colab": {
          "base_uri": "https://localhost:8080/"
        },
        "id": "Y0T4fAkgubRo",
        "outputId": "67c1c676-0abb-44ad-dc4b-3e2943399f82"
      },
      "outputs": [
        {
          "name": "stdout",
          "output_type": "stream",
          "text": [
            "Chain-code: [3, 3, 3, 2, 3, 3, 3, 3, 3, 5, 5, 7, 5, 7, 7, 7, 7, 7, 6, 7, 4, 3, 4, 3, 3, 3, 5, 5, 5, 6, 6, 6, 7, 7, 7, 7, 1, 0, 1, 3, 4, 4, 3, 3, 3, 1, 1, 0, 1, 7, 7, 1, 7, 1, 1, 1, 2, 1]\n",
            "First Difference: [0, 0, 0, 0, 0, 0, 2, 1, 2, 1, 2, 0, 0, 0, 0, 0, 0, 0, 0, 0, 0, 0, 0, 0, 0, 0, 2, 1, 1, 2, 0, 2, 0, 0, 1, 1, 2, 0, 0, 0, 0, 0, 0, 0, 0, 0, 0, 0, 0, 0, 0, 0, 0, 1, 1, 0, 2, 1, 1, 1, 1, 0, 0, 1, 1, 1, 1, 0, 0, 2, 1, 1, 1, 1, 0, 0, 2, 0, 0, 0, 0, 0, 0, 0, 0, 2, 1, 1, 2, 1, 1, 2, 1, 1, 0, 0, 0, 0, 0, 0, 0, 0, 0, 0, 0, 7, 7, 6, 1, 1, 1, 7, 6, 0, 0, 0, 2, 0, 2, 1, 1, 2, 1, 1, 0, 0, 0, 0, 0, 0, 0, 0, 0, 1, 1, 0, 0, 0, 0, 0, 1, 7, 0, 6, 1, 7, 0, 0, 7, 7, 0, 0, 6, 1, 7, 0, 6, 0, 0, 0, 0, 0, 1, 1, 0, 0, 2, 1, 1, 0, 0]\n"
          ]
        }
      ],
      "source": [
        "#Downsampling chain-code to order 50\n",
        "downsampled_chain = []\n",
        "for i in range(0, len(chain), len(chain) // 50):\n",
        "    downsampled_chain.append(chain[i])\n",
        "\n",
        "print(\"Chain-code:\", downsampled_chain)\n",
        "print(\"First Difference:\", first_difference(chain))"
      ]
    },
    {
      "cell_type": "code",
      "execution_count": 77,
      "metadata": {
        "colab": {
          "base_uri": "https://localhost:8080/",
          "height": 486
        },
        "id": "WWrH-pTavNhn",
        "outputId": "bf33c77c-c604-4fe3-d3c2-cf746e2e8854"
      },
      "outputs": [
        {
          "data": {
            "text/plain": [
              "Text(0.5, 1.0, 'Border (order 50)')"
            ]
          },
          "execution_count": 77,
          "metadata": {},
          "output_type": "execute_result"
        },
        {
          "data": {
            "image/png": "[encoded data removed]",
            "text/plain": [
              "<Figure size 500x500 with 1 Axes>"
            ]
          },
          "metadata": {},
          "output_type": "display_data"
        }
      ],
      "source": [
        "current_position = (0, 0)\n",
        "directions = [ (-1, 1), (0, 1),(1, 1), (1, 0), (1, -1),(0, -1), (-1, -1), (-1, 0)]\n",
        "boundary = [current_position]\n",
        "for direction_index in downsampled_chain:\n",
        "    current_position = (current_position[0] + directions[direction_index][0], current_position[1] + directions[direction_index][1])\n",
        "    boundary.append(current_position)\n",
        "\n",
        "plt.figure(figsize=(5, 5))\n",
        "plt.plot(*zip(*boundary), marker='o', color='black', linestyle=':')\n",
        "plt.title(\"Border (order 50)\")"
      ]
    },
    {
      "cell_type": "markdown",
      "metadata": {
        "id": "ogFCzrql7aYy"
      },
      "source": [
        "# ***Recognizing Shapes Using Chain-Code***"
      ]
    },
    {
      "cell_type": "code",
      "execution_count": null,
      "metadata": {
        "id": "p54W3DKB7BxP"
      },
      "outputs": [],
      "source": [
        "def find_start_pos(img):\n",
        "    for i in range(len(img)):\n",
        "        for j in range(len(img[i])):\n",
        "            if img[i][j] == 255:\n",
        "                return i, j\n",
        "    return 0, 0"
      ]
    },
    {
      "cell_type": "code",
      "execution_count": null,
      "metadata": {
        "id": "HtECLw-GYaTp"
      },
      "outputs": [],
      "source": [
        "def get_new_pos(current, direction):\n",
        "    if direction == 0:\n",
        "        return current[0] + 0, current[1] - 1\n",
        "    elif direction == 1:\n",
        "        return current[0] - 1, current[1] - 1\n",
        "    elif direction == 2:\n",
        "        return current[0] - 1, current[1] + 0\n",
        "    elif direction == 3:\n",
        "        return current[0] - 1, current[1] + 1\n",
        "    elif direction == 4:\n",
        "        return current[0] + 0, current[1] + 1\n",
        "    elif direction == 5:\n",
        "        return current[0] + 1, current[1] + 1\n",
        "    elif direction == 6:\n",
        "        return current[0] + 1, current[1] + 0\n",
        "    else:\n",
        "        return current[0] + 1, current[1] - 1"
      ]
    },
    {
      "cell_type": "code",
      "execution_count": null,
      "metadata": {
        "id": "OQjmOTzL7pr0"
      },
      "outputs": [],
      "source": [
        "def get_next_neighbor(current, prev, img):\n",
        "    neighbors = [\n",
        "        img[current[0] + 0][current[1] - 1],\n",
        "        img[current[0] - 1][current[1] - 1],\n",
        "        img[current[0] - 1][current[1] + 0],\n",
        "        img[current[0] - 1][current[1] + 1],\n",
        "        img[current[0] + 0][current[1] + 1],\n",
        "        img[current[0] + 1][current[1] + 1],\n",
        "        img[current[0] + 1][current[1] + 0],\n",
        "        img[current[0] + 1][current[1] - 1]\n",
        "    ]\n",
        "    direction = (prev + 1) % 8\n",
        "    while direction != prev:\n",
        "        if neighbors[direction] == 255:\n",
        "            return get_new_pos(current, direction), (direction + 4) % 8\n",
        "        direction = (direction + 1) % 8\n",
        "    return None, (direction + 4) % 8"
      ]
    },
    {
      "cell_type": "code",
      "execution_count": null,
      "metadata": {
        "id": "iQedvtg07tvl"
      },
      "outputs": [],
      "source": [
        "def first_difference(list):\n",
        "    fd_list = []\n",
        "    c = list[-1]\n",
        "    list.insert(0, c)\n",
        "    for x in range(len(list)-1):\n",
        "        counter = 0\n",
        "        pointer = list[x]\n",
        "        while True:\n",
        "            if list[x+1] == pointer:\n",
        "                fd_list.append(counter)\n",
        "                break\n",
        "            else:\n",
        "                counter += 1\n",
        "                pointer = (pointer + 1) % 8\n",
        "    return fd_list"
      ]
    },
    {
      "cell_type": "code",
      "execution_count": null,
      "metadata": {
        "id": "AgUdTbaz762Z"
      },
      "outputs": [],
      "source": [
        "def boxRatio(box):\n",
        "    xs = [p[0] for p in box]\n",
        "    ys = [p[1] for p in box]\n",
        "    xMin, xMax, yMin, yMax = min(xs), max(xs), min(ys), max(ys)\n",
        "    h = yMax - yMin\n",
        "    w = xMax - xMin\n",
        "    ratio = float(max(h, w))/float(min(h, w))\n",
        "    return ratio, h, w"
      ]
    },
    {
      "cell_type": "code",
      "execution_count": null,
      "metadata": {
        "id": "ABDr_J7l79F7"
      },
      "outputs": [],
      "source": [
        "def shapeBox(box, sq):\n",
        "    xs = [p[0] for p in box]\n",
        "    ys = [p[1] for p in box]\n",
        "    xMin, xMax, yMin, yMax = min(xs), max(xs), min(ys), max(ys)\n",
        "    h = yMax - yMin\n",
        "    w = xMax - xMin\n",
        "\n",
        "    addedHeight = shapeAdd(h, sq)\n",
        "    addedWidth = shapeAdd(w, sq)\n",
        "\n",
        "    newBox = np.array(list(map(lambda p: [p[0] + addedWidth, p[1] + addedHeight] if (p[0] == xMax and p[1] == yMax)\n",
        "                        else [p[0] + addedWidth, p[1]] if (p[0] == xMax)\n",
        "                        else [p[0], p[1] + addedHeight] if (p[1] == yMax)\n",
        "                        else p, box)))\n",
        "\n",
        "    return newBox\n",
        "\n",
        "\n",
        "def shapeAdd(d, sq):\n",
        "    return 0 if d % sq == 0 else sq - d % sq\n"
      ]
    },
    {
      "cell_type": "code",
      "execution_count": null,
      "metadata": {
        "id": "EzEeeoeq8BpJ"
      },
      "outputs": [],
      "source": [
        "def grid(shapeBox):\n",
        "    shapeBox = list(map(list, shapeBox))\n",
        "    orderedPoints = []\n",
        "\n",
        "    if len(shapeBox) == 0:\n",
        "        return orderedPoints  # Return an empty list if shapeBox is empty\n",
        "\n",
        "    yMin = 99999\n",
        "    for p in shapeBox:\n",
        "        if p[1] < yMin:\n",
        "            first = p\n",
        "            yMin = p[1]\n",
        "        elif p[1] == yMin and p[0] < first[0]:\n",
        "            first = p\n",
        "    orderedPoints.append(first)\n",
        "\n",
        "    xMax = -99999\n",
        "    for p in shapeBox:\n",
        "        if p[0] > xMax:\n",
        "            second = p\n",
        "            xMax = p[0]\n",
        "        elif p[0] == xMax and p[1] < second[1]:\n",
        "            second = p\n",
        "    orderedPoints.append(second)\n",
        "\n",
        "    yMax = -99999\n",
        "    for p in shapeBox:\n",
        "        if p[1] > yMax:\n",
        "            third = p\n",
        "            yMax = p[1]\n",
        "        elif p[1] == yMax and p[0] > third[0]:\n",
        "            third = p\n",
        "    orderedPoints.append(third)\n",
        "\n",
        "    xMin = 99999\n",
        "    for p in shapeBox:\n",
        "        if p[0] < xMin:\n",
        "            fourth = p\n",
        "            xMin = p[0]\n",
        "        elif p[0] == xMin and p[1] > fourth[1]:\n",
        "            fourth = p\n",
        "    orderedPoints.append(fourth)\n",
        "\n",
        "    xSteps = int((orderedPoints[1][0] - orderedPoints[0][0]) / 10)\n",
        "    ySteps = int((orderedPoints[3][1] - orderedPoints[0][1]) / 10)\n",
        "\n",
        "    opposite = orderedPoints[1][0] - orderedPoints[0][0]\n",
        "    close = orderedPoints[1][1] - orderedPoints[0][1]\n",
        "\n",
        "    if close != 0:\n",
        "        angle = math.atan(opposite / close)\n",
        "    else:\n",
        "        angle = 0\n",
        "\n",
        "    grid = [[] for _ in range(ySteps + 1)]\n",
        "\n",
        "    for y in range(0, ySteps + 1):\n",
        "        for x in range(0, xSteps + 1):\n",
        "            grid[y].append([orderedPoints[0][0] + x * 10, orderedPoints[0][1] + y * 10])\n",
        "\n",
        "    return grid"
      ]
    },
    {
      "cell_type": "code",
      "execution_count": null,
      "metadata": {
        "id": "lcH5O1UI7yP2"
      },
      "outputs": [],
      "source": [
        "def valid_grid_points(grid_points, boundary_points):\n",
        "    valid_points = []\n",
        "    for i in boundary_points:\n",
        "        for j in grid_points:\n",
        "            if dist(i, j) <= 5 and j not in valid_points:\n",
        "                valid_points.append(j)\n",
        "                break\n",
        "    return valid_points"
      ]
    },
    {
      "cell_type": "code",
      "execution_count": null,
      "metadata": {
        "id": "E9YIacwV8Ph4"
      },
      "outputs": [],
      "source": [
        "def get_chain_code(boundary):\n",
        "    current = boundary[-1]\n",
        "    chain = []\n",
        "    for i in boundary:\n",
        "        dx = i[0]-current[0]\n",
        "        dy = i[1]-current[1]\n",
        "        if dx < 0 and dy == 0:\n",
        "            chain.append(0)\n",
        "        if dx < 0 and dy < 0:\n",
        "            chain.append(1)\n",
        "        if dx == 0 and dy < 0:\n",
        "            chain.append(2)\n",
        "        if dx > 0 and dy < 0:\n",
        "            chain.append(3)\n",
        "        if dx > 0 and dy == 0:\n",
        "            chain.append(4)\n",
        "        if dx > 0 and dy > 0:\n",
        "            chain.append(5)\n",
        "        if dx == 0 and dy > 0:\n",
        "            chain.append(6)\n",
        "        if dx < 0 and dy > 0:\n",
        "            chain.append(7)\n",
        "        current = i\n",
        "    return chain"
      ]
    },
    {
      "cell_type": "code",
      "execution_count": null,
      "metadata": {
        "id": "NoNKnnrz8TeS"
      },
      "outputs": [],
      "source": [
        "def cyclic_equiv(u, v):\n",
        "    u_filtered = list(filter(lambda n: n != 0, u))\n",
        "    v_filtered = list(filter(lambda n: n != 0, v))\n",
        "    n, i, j = len(u_filtered), 0, 0\n",
        "    if n != len(v_filtered):\n",
        "        return False\n",
        "    while i < n and j < n:\n",
        "        k = 1\n",
        "        while k <= n and u_filtered[(i + k) % n] == v_filtered[(j + k) % n]:\n",
        "            k += 1\n",
        "        if k > n:\n",
        "            return True\n",
        "        if u_filtered[(i + k) % n] > v_filtered[(j + k) % n]:\n",
        "            i += k\n",
        "        else:\n",
        "            j += k\n",
        "    return False"
      ]
    },
    {
      "cell_type": "code",
      "execution_count": null,
      "metadata": {
        "id": "c9Z0xLnp8XzS"
      },
      "outputs": [],
      "source": [
        "def classify(diff):\n",
        "\n",
        "    no_zeroes = filter(lambda n: n != 0, diff)\n",
        "\n",
        "    if cyclic_equiv(no_zeroes, [2, 2, 2, 2, 2, 6]):\n",
        "        return \"l-shape\"\n",
        "\n",
        "    if no_zeroes == [2, 2, 2, 2]:\n",
        "        firstTwo = diff.index(2)\n",
        "        firstZeroes = 0\n",
        "        secondZeroes = 0\n",
        "        first = True\n",
        "        for n in diff[firstTwo + 1:]:\n",
        "            if n == 0 and first:\n",
        "                firstZeroes += 1\n",
        "            elif n == 0:\n",
        "                secondZeroes += 1\n",
        "            elif first:\n",
        "                first = False\n",
        "            else:\n",
        "                break\n",
        "\n",
        "        if firstZeroes == secondZeroes:\n",
        "            return \"square\"\n",
        "        else:\n",
        "            return \"rectangle\"\n",
        "\n",
        "    if cyclic_equiv(no_zeroes, [2, 3, 3]):\n",
        "        return \"triangle\"\n",
        "\n",
        "    counter = 0\n",
        "    edges = 0\n",
        "    for n in diff:\n",
        "        if n > 4:\n",
        "            counter -= (8 - n)\n",
        "        else:\n",
        "            counter += n\n",
        "        if counter > 3 * (edges + 1):\n",
        "            edges += 1\n",
        "    if edges == 3:\n",
        "        return \"triangle\"\n",
        "\n",
        "    return diff"
      ]
    },
    {
      "cell_type": "code",
      "execution_count": null,
      "metadata": {
        "id": "kK7oqbib8fsC"
      },
      "outputs": [],
      "source": [
        "def circular_distance_tracing(centroid, boundary):\n",
        "    distance_list = []\n",
        "    for i in boundary:\n",
        "        distance_list.append(dist(centroid, i))\n",
        "    return distance_list\n",
        "\n",
        "\n",
        "def shape_detection(distance_list):\n",
        "    avarage_dist = sum(distance_list)/len(distance_list)"
      ]
    },
    {
      "cell_type": "code",
      "execution_count": null,
      "metadata": {
        "colab": {
          "base_uri": "https://localhost:8080/"
        },
        "id": "0BuyFhSw8pSD",
        "outputId": "33a71bbe-2d58-46a3-f5d4-313158450ecf"
      },
      "outputs": [
        {
          "name": "stdout",
          "output_type": "stream",
          "text": [
            "1) triangle\n",
            "2) rectangle\n",
            "3) ellipse\n",
            "4) L-shape\n",
            "4\n",
            "Length of Boundary: 927\n"
          ]
        }
      ],
      "source": [
        "user_input = int(input(\"1) triangle\\n2) rectangle\\n3) ellipse\\n4) L-shape\\n\"))\n",
        "image_src = \"\"\n",
        "if user_input == 1:\n",
        "    image_src = 'triangle5.png'\n",
        "elif user_input == 2:\n",
        "    image_src = 'rectangle2.png'\n",
        "elif user_input == 3:\n",
        "    image_src = 'ellipse.png'\n",
        "else:\n",
        "    image_src = 'lshape.png'\n",
        "image = cv2.imread(image_src, 0)\n",
        "\n",
        "(thresh, im_bw) = cv2.threshold(image, 128, 255, cv2.THRESH_BINARY | cv2.THRESH_OTSU)\n",
        "thresh = 127\n",
        "binary_img = cv2.threshold(image, thresh, 255, cv2.THRESH_BINARY)[1]\n",
        "\n",
        "# extracting boundary points & chain code through Moore-Neighbor algorithm\n",
        "boundary_points, chain_code = boundary_and_chain(binary_img)\n",
        "\n",
        "#making new binary image from boundary points\n",
        "boundary_img = np.zeros(image.shape, np.uint8)\n",
        "for i in boundary_points:\n",
        "    boundary_img[i[0]][i[1]] = 255\n",
        "\n",
        "# subsample of boundary points\n",
        "subsample = subsample_set(boundary_points)\n",
        "subsample_img = np.zeros(image.shape, np.uint8)\n",
        "for i in subsample:\n",
        "    subsample_img[i[0]][i[1]] = 255\n"
      ]
    },
    {
      "cell_type": "code",
      "execution_count": null,
      "metadata": {
        "id": "QxDgmouN9KMB"
      },
      "outputs": [],
      "source": [
        "temp = []\n",
        "for i in boundary_points:\n",
        "    temp.append((i[1], i[0]))\n",
        "numpy_boundary = np.array(temp)\n",
        "\n",
        "rect = cv2.minAreaRect(numpy_boundary)\n",
        "box = cv2.boxPoints(rect)\n",
        "box = np.intp(box)\n",
        "cv2.drawContours(boundary_img, [shapeBox(box, 10)], 0, (255, 0, 0), 1)\n",
        "\n",
        "# eccentricity\n",
        "box_ratio = boxRatio(box)\n",
        "g = grid(shapeBox(box, 10))\n",
        "flat_g = [item for sublist in g for item in sublist]\n",
        "v = valid_grid_points(flat_g, temp)\n",
        "chain = get_chain_code(v)\n",
        "f_diff = first_difference(chain)"
      ]
    },
    {
      "cell_type": "code",
      "execution_count": null,
      "metadata": {
        "colab": {
          "base_uri": "https://localhost:8080/",
          "height": 260
        },
        "id": "kOnSQ6YZ9PYW",
        "outputId": "488076bc-48d6-4bd1-c1db-10c69a553322"
      },
      "outputs": [
        {
          "data": {
            "text/plain": [
              "Text(0.5, 1.0, 'Subsampled Image')"
            ]
          },
          "execution_count": 276,
          "metadata": {},
          "output_type": "execute_result"
        },
        {
          "data": {
            "image/png": "[encoded data removed]",
            "text/plain": [
              "<Figure size 1200x600 with 3 Axes>"
            ]
          },
          "metadata": {},
          "output_type": "display_data"
        }
      ],
      "source": [
        "f, ax = plt.subplots(1,3, figsize=(12,6))\n",
        "ax[0].imshow(image, cmap='gray')\n",
        "ax[0].set_title(\"Image\")\n",
        "ax[1].imshow(boundary_img, cmap='gray')\n",
        "ax[1].set_title(\"Bounding Box & Boundary\")\n",
        "\n",
        "subsample_img = cv2.dilate(subsample_img, np.ones((5, 5), np.uint8))\n",
        "ax[2].imshow(subsample_img, cmap='gray')\n",
        "ax[2].set_title(\"Subsampled Image\")"
      ]
    },
    {
      "cell_type": "code",
      "execution_count": null,
      "metadata": {
        "colab": {
          "base_uri": "https://localhost:8080/"
        },
        "id": "at-sf63I_tgo",
        "outputId": "8f22355c-4cfc-400c-8348-914fc16cd0af"
      },
      "outputs": [
        {
          "name": "stdout",
          "output_type": "stream",
          "text": [
            "Chain Code: [2, 2, 4, 4, 4, 4, 4, 4, 4, 4, 4, 6, 6, 6, 6, 6, 6, 6, 6, 6, 6, 6, 6, 6, 6, 6, 4, 4, 4, 4, 4, 4, 4, 4, 4, 4, 4, 4, 4, 4, 6, 6, 6, 6, 6, 6, 6, 6, 6, 0, 0, 0, 0, 0, 0, 0, 0, 0, 0, 0, 0, 0, 0, 0, 0, 0, 0, 0, 0, 0, 0, 0, 2, 2, 2, 2, 2, 2, 2, 2, 2, 2, 2, 2, 2, 2, 2, 2, 2, 2, 2, 2, 2, 2, 2]\n",
            "First Difference: [0, 2, 0, 0, 0, 0, 0, 0, 0, 0, 2, 0, 0, 0, 0, 0, 0, 0, 0, 0, 0, 0, 0, 0, 0, 6, 0, 0, 0, 0, 0, 0, 0, 0, 0, 0, 0, 0, 0, 2, 0, 0, 0, 0, 0, 0, 0, 0, 2, 0, 0, 0, 0, 0, 0, 0, 0, 0, 0, 0, 0, 0, 0, 0, 0, 0, 0, 0, 0, 0, 0, 2, 0, 0, 0, 0, 0, 0, 0, 0, 0, 0, 0, 0, 0, 0, 0, 0, 0, 0, 0, 0, 0, 0]\n",
            "Predicted Class: l-shape\n",
            "Histogram: {0: 226, 1: 0, 2: 237, 3: 0, 4: 226, 5: 1, 6: 236, 7: 0}\n"
          ]
        }
      ],
      "source": [
        "print(\"Chain Code:\",chain)\n",
        "print(\"First Difference:\",f_diff)\n",
        "print(\"Predicted Class:\", classify(f_diff))\n",
        "\n",
        "histogram = {0: 0, 1: 0, 2: 0, 3: 0, 4: 0, 5: 0, 6: 0, 7: 0}\n",
        "for i in chain_code:\n",
        "    histogram[i] += 1\n",
        "print(\"Histogram:\",histogram)\n",
        "\n",
        "for p in v:\n",
        "    cv2.circle(boundary_img, (p[0], p[1]), 3, (255, 0, 255), -1)"
      ]
    },
    {
      "cell_type": "markdown",
      "metadata": {
        "id": "UKAHL_c5CS96"
      },
      "source": [
        "# *References:*\n",
        "\n",
        "https://github.com/folkestad/Recognize-Simple-Shapes-OpenCV/blob/master/chaincode.py\n",
        "\n",
        "https://www.kaggle.com/code/mburger/freeman-chain-code-script/script"
      ]
    }
  ],
  "metadata": {
    "colab": {
      "provenance": []
    },
    "kernelspec": {
      "display_name": "Python 3",
      "name": "python3"
    },
    "language_info": {
      "name": "python"
    }
  },
  "nbformat": 4,
  "nbformat_minor": 0
}
